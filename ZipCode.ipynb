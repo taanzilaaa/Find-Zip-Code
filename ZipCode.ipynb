{
  "nbformat": 4,
  "nbformat_minor": 0,
  "metadata": {
    "colab": {
      "provenance": []
    },
    "kernelspec": {
      "name": "python3",
      "display_name": "Python 3"
    },
    "language_info": {
      "name": "python"
    }
  },
  "cells": [
    {
      "cell_type": "code",
      "execution_count": 12,
      "metadata": {
        "colab": {
          "base_uri": "https://localhost:8080/"
        },
        "id": "RyvgiJrTmbg0",
        "outputId": "fe260830-c839-48fc-a55b-438f264f439e"
      },
      "outputs": [
        {
          "output_type": "stream",
          "name": "stdout",
          "text": [
            "Name: g block, halishohor, chittagong\n",
            "Kazi Office and G-Block Shahi Jame Mosque, বন্দর সংযোগ সড়ক, দক্ষিণ আগ্রাবাদ, হালিশহর, চট্টগ্রাম, চট্টগ্রাম জেলা, চট্টগ্রাম বিভাগ, 4216, বাংলাদেশ\n"
          ]
        }
      ],
      "source": [
        "from geopy.geocoders import Nominatim\n",
        "\n",
        "loc= Nominatim(user_agent='geoapiExcercises')\n",
        "\n",
        "find = input('Name: ')\n",
        "location= loc.geocode(find)\n",
        "\n",
        "print(location)"
      ]
    }
  ]
}